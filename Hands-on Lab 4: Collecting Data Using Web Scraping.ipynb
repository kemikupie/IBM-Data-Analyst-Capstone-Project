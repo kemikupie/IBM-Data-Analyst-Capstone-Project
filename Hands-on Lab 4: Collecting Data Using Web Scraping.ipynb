{
    "cells": [
        {
            "metadata": {},
            "cell_type": "markdown",
            "source": "<p style=\"text-align:center\">\n    <a href=\"https://skills.network/?utm_medium=Exinfluencer&utm_source=Exinfluencer&utm_content=000026UJ&utm_term=10006555&utm_id=NA-SkillsNetwork-Channel-SkillsNetworkCoursesIBMDA0321ENSkillsNetwork928-2022-01-01\" target=\"_blank\">\n    <img src=\"https://cf-courses-data.s3.us.cloud-object-storage.appdomain.cloud/assets/logos/SN_web_lightmode.png\" width=\"200\" alt=\"Skills Network Logo\"  />\n    </a>\n</p>\n"
        },
        {
            "metadata": {},
            "cell_type": "markdown",
            "source": "# **Hands-on Lab : Web Scraping**\n"
        },
        {
            "metadata": {},
            "cell_type": "markdown",
            "source": "Estimated time needed: **30 to 45** minutes\n"
        },
        {
            "metadata": {},
            "cell_type": "markdown",
            "source": "## Objectives\n"
        },
        {
            "metadata": {},
            "cell_type": "markdown",
            "source": "In this lab you will perform the following:\n"
        },
        {
            "metadata": {},
            "cell_type": "markdown",
            "source": "* Extract information from a given web site \n* Write the scraped data into a csv file.\n"
        },
        {
            "metadata": {},
            "cell_type": "markdown",
            "source": "## Extract information from the given web site\nYou will extract the data from the below web site: <br> \n"
        },
        {
            "metadata": {},
            "cell_type": "code",
            "source": "#this url contains the data you need to scrape\nurl = \"https://cf-courses-data.s3.us.cloud-object-storage.appdomain.cloud/IBM-DA0321EN-SkillsNetwork/labs/datasets/Programming_Languages.html\"",
            "execution_count": 1,
            "outputs": []
        },
        {
            "metadata": {},
            "cell_type": "code",
            "source": "import warnings\nwarnings.filterwarnings('ignore')",
            "execution_count": 18,
            "outputs": []
        },
        {
            "metadata": {},
            "cell_type": "markdown",
            "source": "The data you need to scrape is the **name of the programming language** and **average annual salary**.<br> It is a good idea to open the url in your web broswer and study the contents of the web page before you start to scrape.\n"
        },
        {
            "metadata": {},
            "cell_type": "markdown",
            "source": "Import the required libraries\n"
        },
        {
            "metadata": {},
            "cell_type": "code",
            "source": "# Your code here\nimport pandas as pd\nimport requests\nfrom bs4 import BeautifulSoup",
            "execution_count": 3,
            "outputs": []
        },
        {
            "metadata": {},
            "cell_type": "markdown",
            "source": "Download the webpage at the url\n"
        },
        {
            "metadata": {},
            "cell_type": "code",
            "source": "#your code goes here\ndata  = requests.get(url).text",
            "execution_count": 4,
            "outputs": []
        },
        {
            "metadata": {},
            "cell_type": "markdown",
            "source": "Create a soup object\n"
        },
        {
            "metadata": {},
            "cell_type": "code",
            "source": "#your code goes here\nsoup = BeautifulSoup(data, 'html5lib')",
            "execution_count": 5,
            "outputs": []
        },
        {
            "metadata": {},
            "cell_type": "markdown",
            "source": "Scrape the `Language name` and `annual average salary`.\n"
        },
        {
            "metadata": {},
            "cell_type": "code",
            "source": "#your code goes here\nlang_sal_data = pd.DataFrame(columns=[\"Language\", \"Average Annual Salary\"])\nfor row in soup.find(\"tbody\").find_all('tr')[1:]:\n    col = row.find_all(\"td\")\n    language = col[1].text\n    avg_annual_sal = col[3].text\n    \n    # Finally we append the data of each row to the table\n    lang_sal_data = lang_sal_data.append({\"Language\":language, \"Average Annual Salary\":avg_annual_sal}, ignore_index=True) \n   ",
            "execution_count": 40,
            "outputs": []
        },
        {
            "metadata": {},
            "cell_type": "code",
            "source": " lang_sal_data.sort_values(by=['Average Annual Salary'], ascending=False)",
            "execution_count": 62,
            "outputs": [
                {
                    "output_type": "execute_result",
                    "execution_count": 62,
                    "data": {
                        "text/plain": "     Language Average Annual Salary\n9          Go               $94,082\n2           R               $92,037\n6          C#               $88,726\n8         SQL               $84,793\n7         PHP               $84,727\n4       Swift              $130,801\n0      Python              $114,383\n5         C++              $113,865\n3  Javascript              $110,981\n1        Java              $101,013",
                        "text/html": "<div>\n<style scoped>\n    .dataframe tbody tr th:only-of-type {\n        vertical-align: middle;\n    }\n\n    .dataframe tbody tr th {\n        vertical-align: top;\n    }\n\n    .dataframe thead th {\n        text-align: right;\n    }\n</style>\n<table border=\"1\" class=\"dataframe\">\n  <thead>\n    <tr style=\"text-align: right;\">\n      <th></th>\n      <th>Language</th>\n      <th>Average Annual Salary</th>\n    </tr>\n  </thead>\n  <tbody>\n    <tr>\n      <th>9</th>\n      <td>Go</td>\n      <td>$94,082</td>\n    </tr>\n    <tr>\n      <th>2</th>\n      <td>R</td>\n      <td>$92,037</td>\n    </tr>\n    <tr>\n      <th>6</th>\n      <td>C#</td>\n      <td>$88,726</td>\n    </tr>\n    <tr>\n      <th>8</th>\n      <td>SQL</td>\n      <td>$84,793</td>\n    </tr>\n    <tr>\n      <th>7</th>\n      <td>PHP</td>\n      <td>$84,727</td>\n    </tr>\n    <tr>\n      <th>4</th>\n      <td>Swift</td>\n      <td>$130,801</td>\n    </tr>\n    <tr>\n      <th>0</th>\n      <td>Python</td>\n      <td>$114,383</td>\n    </tr>\n    <tr>\n      <th>5</th>\n      <td>C++</td>\n      <td>$113,865</td>\n    </tr>\n    <tr>\n      <th>3</th>\n      <td>Javascript</td>\n      <td>$110,981</td>\n    </tr>\n    <tr>\n      <th>1</th>\n      <td>Java</td>\n      <td>$101,013</td>\n    </tr>\n  </tbody>\n</table>\n</div>"
                    },
                    "metadata": {}
                }
            ]
        },
        {
            "metadata": {},
            "cell_type": "markdown",
            "source": "Save the scrapped data into a file named *popular-languages.csv*\n"
        },
        {
            "metadata": {},
            "cell_type": "code",
            "source": "# your code goes here\n\nlang_sal_data.to_csv('popular-languages.csv')",
            "execution_count": 44,
            "outputs": []
        },
        {
            "metadata": {},
            "cell_type": "markdown",
            "source": "## Authors\n"
        },
        {
            "metadata": {},
            "cell_type": "markdown",
            "source": "Ramesh Sannareddy\n"
        },
        {
            "metadata": {},
            "cell_type": "markdown",
            "source": "### Other Contributors\n"
        },
        {
            "metadata": {},
            "cell_type": "markdown",
            "source": "Rav Ahuja\n"
        },
        {
            "metadata": {},
            "cell_type": "markdown",
            "source": "## Change Log\n"
        },
        {
            "metadata": {},
            "cell_type": "markdown",
            "source": "|  Date (YYYY-MM-DD) |  Version | Changed By  |  Change Description |\n|---|---|---|---|\n| 2020-10-17  | 0.1  | Ramesh Sannareddy  |  Created initial version of the lab |\n"
        },
        {
            "metadata": {},
            "cell_type": "markdown",
            "source": " Copyright &copy; 2020 IBM Corporation. This notebook and its source code are released under the terms of the [MIT License](https://cognitiveclass.ai/mit-license/?utm_medium=Exinfluencer&utm_source=Exinfluencer&utm_content=000026UJ&utm_term=10006555&utm_id=NA-SkillsNetwork-Channel-SkillsNetworkCoursesIBMDA0321ENSkillsNetwork928-2022-01-01).\n"
        }
    ],
    "metadata": {
        "kernelspec": {
            "name": "python3",
            "display_name": "Python 3.10",
            "language": "python"
        },
        "language_info": {
            "name": "python",
            "version": "3.10.9",
            "mimetype": "text/x-python",
            "codemirror_mode": {
                "name": "ipython",
                "version": 3
            },
            "pygments_lexer": "ipython3",
            "nbconvert_exporter": "python",
            "file_extension": ".py"
        }
    },
    "nbformat": 4,
    "nbformat_minor": 4
}