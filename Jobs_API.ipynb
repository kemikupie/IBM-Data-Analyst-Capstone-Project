{
    "cells": [
        {
            "metadata": {},
            "id": "a66c1692-9c84-41ec-a135-b417ef41344d",
            "cell_type": "markdown",
            "source": "<p style=\"text-align:center\">\n    <a href=\"https://skills.network/?utm_medium=Exinfluencer&utm_source=Exinfluencer&utm_content=000026UJ&utm_term=10006555&utm_id=NA-SkillsNetwork-Channel-SkillsNetworkCoursesIBMDA0321ENSkillsNetwork21426264-2022-01-01\" target=\"_blank\">\n    <img src=\"https://cf-courses-data.s3.us.cloud-object-storage.appdomain.cloud/assets/logos/SN_web_lightmode.png\" width=\"200\" alt=\"Skills Network Logo\"  />\n    </a>\n</p>\n"
        },
        {
            "metadata": {},
            "id": "6e786144-f1e4-45ee-b287-f2f4b87300d3",
            "cell_type": "markdown",
            "source": "# **JOBS API Implementation Using FLASK**\n"
        },
        {
            "metadata": {},
            "id": "817156a7-4bab-46b8-9a67-55f3b0564c01",
            "cell_type": "markdown",
            "source": "We will be executing this code  so that the notebook **2.a-Collect Data (API).ipynb**  will be accessing this code executing on the server\n"
        },
        {
            "metadata": {},
            "id": "4ac527ce-f921-44e2-b729-28ed03634a8e",
            "cell_type": "code",
            "source": "!pip install flask",
            "execution_count": 1,
            "outputs": [
                {
                    "output_type": "stream",
                    "text": "Requirement already satisfied: flask in /opt/conda/envs/Python-3.10/lib/python3.10/site-packages (2.3.3)\r\nRequirement already satisfied: blinker>=1.6.2 in /opt/conda/envs/Python-3.10/lib/python3.10/site-packages (from flask) (1.6.2)\r\nRequirement already satisfied: click>=8.1.3 in /opt/conda/envs/Python-3.10/lib/python3.10/site-packages (from flask) (8.1.7)\r\nRequirement already satisfied: Jinja2>=3.1.2 in /opt/conda/envs/Python-3.10/lib/python3.10/site-packages (from flask) (3.1.2)\r\nRequirement already satisfied: itsdangerous>=2.1.2 in /opt/conda/envs/Python-3.10/lib/python3.10/site-packages (from flask) (2.1.2)\r\nRequirement already satisfied: Werkzeug>=2.3.7 in /opt/conda/envs/Python-3.10/lib/python3.10/site-packages (from flask) (2.3.7)\r\nRequirement already satisfied: MarkupSafe>=2.0 in /opt/conda/envs/Python-3.10/lib/python3.10/site-packages (from Jinja2>=3.1.2->flask) (2.1.1)\r\n",
                    "name": "stdout"
                }
            ]
        },
        {
            "metadata": {},
            "id": "0e5bba17-58e7-49a4-8040-0831e93466f5",
            "cell_type": "markdown",
            "source": "## Dataset Used in this Assignment\n\nThe dataset used in this lab comes from the following source: [https://www.kaggle.com/promptcloud/jobs-on-naukricom](https://www.kaggle.com/promptcloud/jobs-on-naukricom?utm_medium=Exinfluencer&utm_source=Exinfluencer&utm_content=000026UJ&utm_term=10006555&utm_id=NA-SkillsNetwork-Channel-SkillsNetworkCoursesIBMDA0321ENSkillsNetwork21426264-2022-01-01) under the under a **Public Domain license**.\n"
        },
        {
            "metadata": {},
            "id": "c2eed468-b4cd-481a-a18e-1851e2fc7a4a",
            "cell_type": "code",
            "source": "!wget  https://cf-courses-data.s3.us.cloud-object-storage.appdomain.cloud/IBM-DA0321EN-SkillsNetwork/labs/module%201/Accessing%20Data%20Using%20APIs/jobs.json",
            "execution_count": 2,
            "outputs": [
                {
                    "output_type": "stream",
                    "text": "--2023-08-29 20:17:20--  https://cf-courses-data.s3.us.cloud-object-storage.appdomain.cloud/IBM-DA0321EN-SkillsNetwork/labs/module%201/Accessing%20Data%20Using%20APIs/jobs.json\nResolving cf-courses-data.s3.us.cloud-object-storage.appdomain.cloud (cf-courses-data.s3.us.cloud-object-storage.appdomain.cloud)... 169.63.118.104\nConnecting to cf-courses-data.s3.us.cloud-object-storage.appdomain.cloud (cf-courses-data.s3.us.cloud-object-storage.appdomain.cloud)|169.63.118.104|:443... connected.\nHTTP request sent, awaiting response... 200 OK\nLength: 12878382 (12M) [application/json]\nSaving to: \u2018jobs.json.1\u2019\n\njobs.json.1         100%[===================>]  12.28M  2.10MB/s    in 7.4s    \n\n2023-08-29 20:17:28 (1.66 MB/s) - \u2018jobs.json.1\u2019 saved [12878382/12878382]\n\n",
                    "name": "stdout"
                }
            ]
        },
        {
            "metadata": {},
            "id": "21697c9d",
            "cell_type": "code",
            "source": "import flask\nfrom flask import request, jsonify\nimport requests\nimport re\n\ndef get_data(key,value,current):\n    results = list()\n    pattern_dict = {\n        'C'      : '(C)',\n        'C++'    : '(C\\+\\+)',\n        'Java'   :'(Java)',\n        'C#'     : '(C\\#)',\n        'Python' :'(Python)',\n        'Scala' : '(Scala)',\n        'Oracle' : '(Oracle)',\n        'SQL Server': '(SQL Server)',\n        'MySQL Server' :'(MySQL Server)',\n        'PostgreSQL':'(PostgreSQL)',\n        'MongoDB'    : '(MongoDB)',\n        'JavaScript'    : '(JavaScript)',\n        'Los Angeles' :'(Los Angeles)',\n        'New York':'(New York)',\n        'San Francisco':'(San Francisco)',\n        'Washington DC':'(Washington DC)',\n        'Seattle':'(Seattle)',\n        'Austin':'(Austin)',\n        'Detroit':'(Detroit)',\n        \n        \n        \n        \n        \n    }\n    for rec in current:\n        print(rec[key])\n        print(type(rec[key]))\n        print(rec[key].find(value))\n        #if rec[key].find(value) != -1:\n        import re\n        #reex_str = \"\"\"(C)|(C\\+\\+)|(JavaScript)|(Java)|(C\\#)|(Python)|(Scala)|(Oracle)|(SQL Server)|(MySQL Server)|(PostgreSQL)|(MongoDB)\"\"\"\n        if re.search(pattern_dict[value],rec[key]) != None:\n            results.append(rec)\n    return results\n\napp = flask.Flask(__name__)\n\nimport json\ndata = None\nwith open('jobs.json',encoding='utf-8') as f:\n    # returns JSON object as\n    # a dictionary\n    data = json.load(f)\n    \n    \n\n@app.route('/', methods=['GET'])\ndef home():\n    \n    return '''<h1>Welcome to flask JOB search API</p>'''\n\n\n@app.route('/data/all', methods=['GET'])\ndef api_all():\n    return jsonify(data)\n\n\n@app.route('/data', methods=['GET'])\ndef api_id():\n    # Check if keys such as Job Title,KeySkills, Role Category and others  are provided as part of the URL.\n    #  Assign the keys to the corresponding variables..\n    # If no key is provided, display an error in the browser.\n    res = None\n    for req in request.args:\n        \n        if req == 'Job Title':\n            key = 'Job Title'\n        elif req == 'Job Experience Required' :\n            key='Job Experience Required'\n        elif req == 'Key Skills' :\n            key='Key Skills'\n            \n        elif req == 'Role Category' :\n            key='Role Category'\n        elif req == 'Location' :\n            key='Location'\n        \n        elif req == 'Functional Area' :\n            key='Functional Area'\n        \n        elif req == 'Industry' :\n            key='Industry'\n        elif req == 'Role' :\n            key='Role'\n        elif req==\"id\":\n             key=\"id\"\n        else:\n            pass\n    \n        value = request.args[key]\n        if (res==None):\n            res = get_data(key,value,data)\n        else:\n            res = get_data(key,value,res)\n\n    # Use the jsonify function from Flask to convert our list of\n    # Python dictionaries to the JSON format.\n    return jsonify(res)\n\napp.run()",
            "execution_count": null,
            "outputs": [
                {
                    "output_type": "stream",
                    "text": " * Serving Flask app '__main__'\n * Debug mode: off\n",
                    "name": "stdout"
                },
                {
                    "output_type": "stream",
                    "text": "\u001b[31m\u001b[1mWARNING: This is a development server. Do not use it in a production deployment. Use a production WSGI server instead.\u001b[0m\n * Running on http://127.0.0.1:5000\n\u001b[33mPress CTRL+C to quit\u001b[0m\n127.0.0.1 - - [29/Aug/2023 20:20:22] \"GET /data HTTP/1.1\" 200 -\n127.0.0.1 - - [29/Aug/2023 20:22:11] \"GET /data HTTP/1.1\" 200 -\n127.0.0.1 - - [29/Aug/2023 20:22:49] \"GET /data/all HTTP/1.1\" 200 -\n127.0.0.1 - - [29/Aug/2023 20:24:23] \"GET /data/all HTTP/1.1\" 200 -\n127.0.0.1 - - [29/Aug/2023 20:25:09] \"GET /data/all HTTP/1.1\" 200 -\n127.0.0.1 - - [29/Aug/2023 20:25:38] \"GET /data/all HTTP/1.1\" 200 -\n127.0.0.1 - - [29/Aug/2023 20:25:50] \"GET /data/all HTTP/1.1\" 200 -\n127.0.0.1 - - [29/Aug/2023 20:26:04] \"GET /data/all HTTP/1.1\" 200 -\n127.0.0.1 - - [29/Aug/2023 20:26:39] \"GET /data/all HTTP/1.1\" 200 -\n127.0.0.1 - - [29/Aug/2023 20:28:40] \"GET /data/all HTTP/1.1\" 200 -\n127.0.0.1 - - [29/Aug/2023 20:28:40] \"GET /data/all HTTP/1.1\" 200 -\n127.0.0.1 - - [29/Aug/2023 20:28:40] \"GET /data/all HTTP/1.1\" 200 -\n127.0.0.1 - - [29/Aug/2023 20:28:41] \"GET /data/all HTTP/1.1\" 200 -\n127.0.0.1 - - [29/Aug/2023 20:28:41] \"GET /data/all HTTP/1.1\" 200 -\n127.0.0.1 - - [29/Aug/2023 20:28:41] \"GET /data/all HTTP/1.1\" 200 -\n127.0.0.1 - - [29/Aug/2023 20:28:41] \"GET /data/all HTTP/1.1\" 200 -\n127.0.0.1 - - [29/Aug/2023 20:28:42] \"GET /data/all HTTP/1.1\" 200 -\n127.0.0.1 - - [29/Aug/2023 20:28:43] \"GET /data/all HTTP/1.1\" 200 -\n127.0.0.1 - - [29/Aug/2023 20:28:43] \"GET /data/all HTTP/1.1\" 200 -\n127.0.0.1 - - [29/Aug/2023 20:28:43] \"GET /data/all HTTP/1.1\" 200 -\n127.0.0.1 - - [29/Aug/2023 20:28:43] \"GET /data/all HTTP/1.1\" 200 -\n127.0.0.1 - - [29/Aug/2023 20:28:44] \"GET /data/all HTTP/1.1\" 200 -\n127.0.0.1 - - [29/Aug/2023 20:28:44] \"GET /data/all HTTP/1.1\" 200 -\n127.0.0.1 - - [29/Aug/2023 20:28:44] \"GET /data/all HTTP/1.1\" 200 -\n127.0.0.1 - - [29/Aug/2023 20:28:45] \"GET /data/all HTTP/1.1\" 200 -\n127.0.0.1 - - [29/Aug/2023 20:28:45] \"GET /data/all HTTP/1.1\" 200 -\n127.0.0.1 - - [29/Aug/2023 20:28:45] \"GET /data/all HTTP/1.1\" 200 -\n127.0.0.1 - - [29/Aug/2023 20:28:45] \"GET /data/all HTTP/1.1\" 200 -\n127.0.0.1 - - [29/Aug/2023 20:28:46] \"GET /data/all HTTP/1.1\" 200 -\n127.0.0.1 - - [29/Aug/2023 20:28:46] \"GET /data/all HTTP/1.1\" 200 -\n127.0.0.1 - - [29/Aug/2023 20:29:54] \"GET /data/all HTTP/1.1\" 200 -\n127.0.0.1 - - [29/Aug/2023 20:29:54] \"GET /data/all HTTP/1.1\" 200 -\n127.0.0.1 - - [29/Aug/2023 20:29:54] \"GET /data/all HTTP/1.1\" 200 -\n127.0.0.1 - - [29/Aug/2023 20:29:54] \"GET /data/all HTTP/1.1\" 200 -\n127.0.0.1 - - [29/Aug/2023 20:29:55] \"GET /data/all HTTP/1.1\" 200 -\n127.0.0.1 - - [29/Aug/2023 20:29:55] \"GET /data/all HTTP/1.1\" 200 -\n127.0.0.1 - - [29/Aug/2023 20:29:55] \"GET /data/all HTTP/1.1\" 200 -\n127.0.0.1 - - [29/Aug/2023 20:29:56] \"GET /data/all HTTP/1.1\" 200 -\n127.0.0.1 - - [29/Aug/2023 20:29:56] \"GET /data/all HTTP/1.1\" 200 -\n127.0.0.1 - - [29/Aug/2023 20:29:56] \"GET /data/all HTTP/1.1\" 200 -\n127.0.0.1 - - [29/Aug/2023 20:29:56] \"GET /data/all HTTP/1.1\" 200 -\n127.0.0.1 - - [29/Aug/2023 20:29:57] \"GET /data/all HTTP/1.1\" 200 -\n127.0.0.1 - - [29/Aug/2023 20:30:12] \"GET /data/all HTTP/1.1\" 200 -\n127.0.0.1 - - [29/Aug/2023 20:30:13] \"GET /data/all HTTP/1.1\" 200 -\n127.0.0.1 - - [29/Aug/2023 20:30:13] \"GET /data/all HTTP/1.1\" 200 -\n127.0.0.1 - - [29/Aug/2023 20:30:13] \"GET /data/all HTTP/1.1\" 200 -\n127.0.0.1 - - [29/Aug/2023 20:30:14] \"GET /data/all HTTP/1.1\" 200 -\n127.0.0.1 - - [29/Aug/2023 20:30:14] \"GET /data/all HTTP/1.1\" 200 -\n127.0.0.1 - - [29/Aug/2023 20:30:14] \"GET /data/all HTTP/1.1\" 200 -\n127.0.0.1 - - [29/Aug/2023 20:30:14] \"GET /data/all HTTP/1.1\" 200 -\n127.0.0.1 - - [29/Aug/2023 20:30:15] \"GET /data/all HTTP/1.1\" 200 -\n127.0.0.1 - - [29/Aug/2023 20:30:15] \"GET /data/all HTTP/1.1\" 200 -\n127.0.0.1 - - [29/Aug/2023 20:30:15] \"GET /data/all HTTP/1.1\" 200 -\n127.0.0.1 - - [29/Aug/2023 20:30:16] \"GET /data/all HTTP/1.1\" 200 -\n",
                    "name": "stderr"
                }
            ]
        },
        {
            "metadata": {},
            "cell_type": "code",
            "source": "",
            "execution_count": null,
            "outputs": [],
            "id": "b7332715"
        }
    ],
    "metadata": {
        "kernelspec": {
            "name": "python3",
            "display_name": "Python 3.10",
            "language": "python"
        },
        "language_info": {
            "name": "python",
            "version": "3.10.9",
            "mimetype": "text/x-python",
            "codemirror_mode": {
                "name": "ipython",
                "version": 3
            },
            "pygments_lexer": "ipython3",
            "nbconvert_exporter": "python",
            "file_extension": ".py"
        }
    },
    "nbformat": 4,
    "nbformat_minor": 5
}